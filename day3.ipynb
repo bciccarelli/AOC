{
 "cells": [
  {
   "cell_type": "code",
   "execution_count": 27,
   "metadata": {},
   "outputs": [
    {
     "data": {
      "text/plain": [
       "7446"
      ]
     },
     "execution_count": 27,
     "metadata": {},
     "output_type": "execute_result"
    }
   ],
   "source": [
    "score = 0\n",
    "\n",
    "def get_prior(e):\n",
    "    return set([ord(char)-96 if char.islower() else ord(char.lower())-70 for char in e])\n",
    "\n",
    "with open(\"input3.txt\") as f:\n",
    "    for line in f:\n",
    "        compartment_size = int((len(line)-1)/2)\n",
    "        first = line[:compartment_size]\n",
    "        second = line[compartment_size:]\n",
    "        prior_first = get_prior(first)\n",
    "        prior_second = get_prior(second)\n",
    "        \n",
    "        score += list(prior_first.intersection(prior_second))[0]\n",
    "    \n",
    "score\n"
   ]
  },
  {
   "cell_type": "code",
   "execution_count": 53,
   "metadata": {},
   "outputs": [
    {
     "data": {
      "text/plain": [
       "2646"
      ]
     },
     "execution_count": 53,
     "metadata": {},
     "output_type": "execute_result"
    }
   ],
   "source": [
    "with open(\"input3.txt\") as f:\n",
    "    a = f.readlines()\n",
    "\n",
    "b = [i.replace('\\n', '') for i in a]\n",
    "groups = zip(*(iter(b),) * 3)\n",
    "\n",
    "score = 0\n",
    "for g in groups:\n",
    "    first = get_prior(g[0])\n",
    "    second = get_prior(g[1])\n",
    "    third = get_prior(g[2])\n",
    "    \n",
    "    score += list(first.intersection(second).intersection(third))[0]\n",
    "\n",
    "score\n"
   ]
  }
 ],
 "metadata": {
  "kernelspec": {
   "display_name": "Python 3.9.6 64-bit",
   "language": "python",
   "name": "python3"
  },
  "language_info": {
   "codemirror_mode": {
    "name": "ipython",
    "version": 3
   },
   "file_extension": ".py",
   "mimetype": "text/x-python",
   "name": "python",
   "nbconvert_exporter": "python",
   "pygments_lexer": "ipython3",
   "version": "3.9.6"
  },
  "orig_nbformat": 4,
  "vscode": {
   "interpreter": {
    "hash": "31f2aee4e71d21fbe5cf8b01ff0e069b9275f58929596ceb00d14d90e3e16cd6"
   }
  }
 },
 "nbformat": 4,
 "nbformat_minor": 2
}
