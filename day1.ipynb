{
 "cells": [
  {
   "cell_type": "code",
   "execution_count": 16,
   "metadata": {},
   "outputs": [
    {
     "data": {
      "text/plain": [
       "71471"
      ]
     },
     "execution_count": 16,
     "metadata": {},
     "output_type": "execute_result"
    }
   ],
   "source": [
    "import pandas as pd\n",
    "\n",
    "highest_sum = 0\n",
    "current_sum = 0\n",
    "with open(\"input1.txt\") as f:\n",
    "    for line in f:\n",
    "        current_sum = 0 if line == \"\\n\" else current_sum + int(line)\n",
    "        highest_sum = current_sum if (current_sum > highest_sum) else highest_sum\n",
    "\n",
    "highest_sum"
   ]
  },
  {
   "cell_type": "code",
   "execution_count": 19,
   "metadata": {},
   "outputs": [
    {
     "data": {
      "text/plain": [
       "211189"
      ]
     },
     "execution_count": 19,
     "metadata": {},
     "output_type": "execute_result"
    }
   ],
   "source": [
    "highest_sums = [0,0,0]\n",
    "current_sum = 0\n",
    "with open(\"input1.txt\") as f:\n",
    "    for line in f:\n",
    "        lowest = min(highest_sums)\n",
    "        if current_sum > lowest:\n",
    "            highest_sums.remove(lowest)\n",
    "            highest_sums.append(current_sum)\n",
    "        current_sum = 0 if line == \"\\n\" else current_sum + int(line)\n",
    "\n",
    "sum(highest_sums)"
   ]
  }
 ],
 "metadata": {
  "kernelspec": {
   "display_name": "Python 3.9.6 64-bit",
   "language": "python",
   "name": "python3"
  },
  "language_info": {
   "codemirror_mode": {
    "name": "ipython",
    "version": 3
   },
   "file_extension": ".py",
   "mimetype": "text/x-python",
   "name": "python",
   "nbconvert_exporter": "python",
   "pygments_lexer": "ipython3",
   "version": "3.9.6"
  },
  "orig_nbformat": 4,
  "vscode": {
   "interpreter": {
    "hash": "31f2aee4e71d21fbe5cf8b01ff0e069b9275f58929596ceb00d14d90e3e16cd6"
   }
  }
 },
 "nbformat": 4,
 "nbformat_minor": 2
}
