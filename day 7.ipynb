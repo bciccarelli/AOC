{
 "cells": [
  {
   "cell_type": "code",
   "execution_count": 29,
   "metadata": {},
   "outputs": [
    {
     "name": "stdout",
     "output_type": "stream",
     "text": [
      "1642503\n"
     ]
    }
   ],
   "source": [
    "with open(\"input7.txt\") as f:\n",
    "    a = f.readlines()\n",
    "\n",
    "b = [i.replace('\\n', '') for i in a]\n",
    "\n",
    "class directory():\n",
    "    parent = 0\n",
    "    name = \"\"\n",
    "    size = 0\n",
    "    def __init__(self, parent, name):\n",
    "        self.parent = parent\n",
    "        self.name = name\n",
    "\n",
    "top = 0\n",
    "current_parent = 0\n",
    "all_nodes = []\n",
    "money_lookout = False\n",
    "for line in b:\n",
    "    tokens = line.split(\" \")\n",
    "    if tokens[0]==\"$\":\n",
    "        if tokens[1]==\"ls\":\n",
    "            money_lookout = True\n",
    "        elif tokens[1]==\"cd\":\n",
    "            money_lookout = False\n",
    "            if tokens[2]==\"..\":\n",
    "                current_parent = current_parent.parent\n",
    "            else:\n",
    "                if top == 0:\n",
    "                    top = directory(0, tokens[2])\n",
    "                    current_parent = top\n",
    "                    all_nodes.append(top)\n",
    "                else:\n",
    "                    new_dir = directory(current_parent, tokens[2])\n",
    "                    current_parent = new_dir\n",
    "                    all_nodes.append(new_dir)\n",
    "    elif money_lookout:\n",
    "        if not tokens[0] == \"dir\":\n",
    "            size_inc = int(tokens[0])\n",
    "            current_parent.size += size_inc\n",
    "            p = current_parent\n",
    "            while not p.parent == 0:\n",
    "                p = p.parent\n",
    "                p.size += size_inc\n",
    "\n",
    "sizes = [i.size if i.size<100000 else 0 for i in all_nodes]\n",
    "print(sum(sizes))\n",
    "\n",
    "\n"
   ]
  },
  {
   "cell_type": "code",
   "execution_count": 36,
   "metadata": {},
   "outputs": [
    {
     "name": "stdout",
     "output_type": "stream",
     "text": [
      "46592386\n",
      "6999588\n"
     ]
    }
   ],
   "source": [
    "total_num = top.size\n",
    "threshold = total_num - 40000000\n",
    "print(total_num)\n",
    "sizes = []\n",
    "for i in all_nodes:\n",
    "    if i.size>=threshold:\n",
    "        sizes.append(i.size)\n",
    "        \n",
    "print(min(sizes))\n"
   ]
  }
 ],
 "metadata": {
  "kernelspec": {
   "display_name": "Python 3.9.6 64-bit",
   "language": "python",
   "name": "python3"
  },
  "language_info": {
   "codemirror_mode": {
    "name": "ipython",
    "version": 3
   },
   "file_extension": ".py",
   "mimetype": "text/x-python",
   "name": "python",
   "nbconvert_exporter": "python",
   "pygments_lexer": "ipython3",
   "version": "3.9.6"
  },
  "orig_nbformat": 4,
  "vscode": {
   "interpreter": {
    "hash": "31f2aee4e71d21fbe5cf8b01ff0e069b9275f58929596ceb00d14d90e3e16cd6"
   }
  }
 },
 "nbformat": 4,
 "nbformat_minor": 2
}
