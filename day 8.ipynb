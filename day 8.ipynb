{
 "cells": [
  {
   "cell_type": "code",
   "execution_count": 21,
   "metadata": {},
   "outputs": [
    {
     "name": "stdout",
     "output_type": "stream",
     "text": [
      "1700\n"
     ]
    }
   ],
   "source": [
    "import numpy as np\n",
    "with open(\"input8.txt\") as f:\n",
    "    a = f.readlines()\n",
    "\n",
    "b = [i.replace('\\n', '') for i in a]\n",
    "c = np.array([[int(j) for j in i] for i in b])\n",
    "d = c.transpose()\n",
    "\n",
    "\n",
    "visible = 0\n",
    "for i in range(len(c)):\n",
    "    for j in range(len(d)):\n",
    "        current = c[i][j]\n",
    "\n",
    "        row_first = c[i][:j]\n",
    "        row_second = c[i][j+1:]\n",
    "        col_first = d[j][:i]\n",
    "        col_second = d[j][i+1:]\n",
    "        \n",
    "        sides = [row_first,row_second,col_first,col_second]\n",
    "        for side in sides:\n",
    "            if not side.size == 0:\n",
    "                if (side.max()<current):\n",
    "                    visible += 1\n",
    "                    break\n",
    "            else:\n",
    "                visible += 1\n",
    "                break\n",
    "\n",
    "\n",
    "print(visible)\n"
   ]
  },
  {
   "cell_type": "code",
   "execution_count": 22,
   "metadata": {},
   "outputs": [
    {
     "name": "stdout",
     "output_type": "stream",
     "text": [
      "470596\n"
     ]
    }
   ],
   "source": [
    "\n",
    "import numpy as np\n",
    "with open(\"input8.txt\") as f:\n",
    "    a = f.readlines()\n",
    "\n",
    "b = [i.replace('\\n', '') for i in a]\n",
    "c = np.array([[int(j) for j in i] for i in b])\n",
    "d = c.transpose()\n",
    "\n",
    "\n",
    "highest_score = 0\n",
    "for i in range(len(c)):\n",
    "    for j in range(len(d)):\n",
    "        current = c[i][j]\n",
    "\n",
    "        row_first = c[i][:j][::-1]\n",
    "        row_second = c[i][j+1:]\n",
    "        col_first = d[j][:i][::-1]\n",
    "        col_second = d[j][i+1:]\n",
    "        \n",
    "        sides = [row_first,row_second,col_first,col_second]\n",
    "        distances = []\n",
    "        for side in sides:\n",
    "            count = 0\n",
    "            for x in range(len(side)):\n",
    "                count += 1\n",
    "                if side[x] >= current:\n",
    "                    break\n",
    "            \n",
    "            distances.append(count)\n",
    "                \n",
    "        score = np.prod(distances)\n",
    "        highest_score = max(highest_score, score)\n",
    "\n",
    "\n",
    "print(highest_score)\n"
   ]
  }
 ],
 "metadata": {
  "kernelspec": {
   "display_name": "Python 3.9.6 64-bit",
   "language": "python",
   "name": "python3"
  },
  "language_info": {
   "codemirror_mode": {
    "name": "ipython",
    "version": 3
   },
   "file_extension": ".py",
   "mimetype": "text/x-python",
   "name": "python",
   "nbconvert_exporter": "python",
   "pygments_lexer": "ipython3",
   "version": "3.9.6"
  },
  "orig_nbformat": 4,
  "vscode": {
   "interpreter": {
    "hash": "31f2aee4e71d21fbe5cf8b01ff0e069b9275f58929596ceb00d14d90e3e16cd6"
   }
  }
 },
 "nbformat": 4,
 "nbformat_minor": 2
}
