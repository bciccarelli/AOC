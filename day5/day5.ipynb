{
 "cells": [
  {
   "cell_type": "code",
   "execution_count": 66,
   "metadata": {},
   "outputs": [
    {
     "name": "stdout",
     "output_type": "stream",
     "text": [
      "SPFMVDTZT\n"
     ]
    }
   ],
   "source": [
    "with open(\"input5.txt\") as f:\n",
    "    a = f.readlines()\n",
    "\n",
    "b = [i.replace('\\n', '') for i in a]\n",
    "\n",
    "crates = b[0:8]\n",
    "\n",
    "moves = b[10:]\n",
    "\n",
    "crates.reverse()\n",
    "\n",
    "stacks = [[] for i in range(9)]\n",
    "\n",
    "\n",
    "for line in crates:\n",
    "    groups = zip(*(iter(line),) * 4)\n",
    "    for i, g in enumerate(groups):\n",
    "        if not g[1] == \" \":\n",
    "            stacks[i].append(g[1])\n",
    "\n",
    "\n",
    "\n",
    "for line in moves:\n",
    "    move_num = line.split(\"move \")[1]\n",
    "    from_num = move_num.split(\"from \")[1]\n",
    "\n",
    "    move_num = int(move_num.split(\"from \")[0])\n",
    "\n",
    "    to_num = int(from_num.split(\"to \")[1])\n",
    "\n",
    "    from_num = int(from_num.split(\"to \")[0])\n",
    "\n",
    "    p = [stacks[from_num-1].pop() for i in range(move_num)]\n",
    "    \n",
    "    for app in p:\n",
    "        stacks[to_num-1].append(app)\n",
    "        \n",
    "final = \"\"\n",
    "\n",
    "for stack in stacks:\n",
    "    final += (stack[len(stack)-1])\n",
    "\n",
    "print(final)"
   ]
  },
  {
   "cell_type": "code",
   "execution_count": 67,
   "metadata": {},
   "outputs": [
    {
     "name": "stdout",
     "output_type": "stream",
     "text": [
      "ZFSJBPRFP\n"
     ]
    }
   ],
   "source": [
    "with open(\"input5.txt\") as f:\n",
    "    a = f.readlines()\n",
    "\n",
    "b = [i.replace('\\n', '') for i in a]\n",
    "\n",
    "crates = b[0:8]\n",
    "\n",
    "moves = b[10:]\n",
    "\n",
    "crates.reverse()\n",
    "\n",
    "stacks = [[] for i in range(9)]\n",
    "\n",
    "\n",
    "for line in crates:\n",
    "    groups = zip(*(iter(line),) * 4)\n",
    "    for i, g in enumerate(groups):\n",
    "        if not g[1] == \" \":\n",
    "            stacks[i].append(g[1])\n",
    "\n",
    "\n",
    "\n",
    "for line in moves:\n",
    "    move_num = line.split(\"move \")[1]\n",
    "    from_num = move_num.split(\"from \")[1]\n",
    "\n",
    "    move_num = int(move_num.split(\"from \")[0])\n",
    "\n",
    "    to_num = int(from_num.split(\"to \")[1])\n",
    "\n",
    "    from_num = int(from_num.split(\"to \")[0])\n",
    "\n",
    "    p = [stacks[from_num-1].pop() for i in range(move_num)]\n",
    "    # Only change :)\n",
    "    p.reverse()\n",
    "    for app in p:\n",
    "        stacks[to_num-1].append(app)\n",
    "        \n",
    "final = \"\"\n",
    "\n",
    "for stack in stacks:\n",
    "    final += (stack[len(stack)-1])\n",
    "\n",
    "print(final)"
   ]
  }
 ],
 "metadata": {
  "kernelspec": {
   "display_name": "Python 3.9.6 64-bit",
   "language": "python",
   "name": "python3"
  },
  "language_info": {
   "codemirror_mode": {
    "name": "ipython",
    "version": 3
   },
   "file_extension": ".py",
   "mimetype": "text/x-python",
   "name": "python",
   "nbconvert_exporter": "python",
   "pygments_lexer": "ipython3",
   "version": "3.9.6"
  },
  "orig_nbformat": 4,
  "vscode": {
   "interpreter": {
    "hash": "31f2aee4e71d21fbe5cf8b01ff0e069b9275f58929596ceb00d14d90e3e16cd6"
   }
  }
 },
 "nbformat": 4,
 "nbformat_minor": 2
}
