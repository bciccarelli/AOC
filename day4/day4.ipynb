{
 "cells": [
  {
   "cell_type": "code",
   "execution_count": 13,
   "metadata": {},
   "outputs": [
    {
     "data": {
      "text/plain": [
       "431"
      ]
     },
     "execution_count": 13,
     "metadata": {},
     "output_type": "execute_result"
    }
   ],
   "source": [
    "with open(\"input4.txt\") as f:\n",
    "    a = f.readlines()\n",
    "\n",
    "b = [i.replace('\\n', '') for i in a]\n",
    "\n",
    "count = 0\n",
    "for line in b:\n",
    "    pair = line.split(\",\")\n",
    "    first = pair[0]\n",
    "    first_range = [int(i) for i in first.split(\"-\")]\n",
    "\n",
    "    second = pair[1]\n",
    "    second_range = [int(i) for i in second.split(\"-\")]\n",
    "    \n",
    "    first_set = set(range(first_range[0],first_range[1]+1))\n",
    "    second_set = set(range(second_range[0],second_range[1]+1))\n",
    "\n",
    "    intersection = first_set.intersection(second_set)\n",
    "    if intersection == first_set or intersection == second_set:\n",
    "        count += 1\n",
    "\n",
    "count\n",
    "    "
   ]
  },
  {
   "cell_type": "code",
   "execution_count": 14,
   "metadata": {},
   "outputs": [
    {
     "data": {
      "text/plain": [
       "823"
      ]
     },
     "execution_count": 14,
     "metadata": {},
     "output_type": "execute_result"
    }
   ],
   "source": [
    "with open(\"input4.txt\") as f:\n",
    "    a = f.readlines()\n",
    "\n",
    "b = [i.replace('\\n', '') for i in a]\n",
    "\n",
    "count = 0\n",
    "for line in b:\n",
    "    pair = line.split(\",\")\n",
    "    first = pair[0]\n",
    "    first_range = [int(i) for i in first.split(\"-\")]\n",
    "\n",
    "    second = pair[1]\n",
    "    second_range = [int(i) for i in second.split(\"-\")]\n",
    "    \n",
    "    first_set = set(range(first_range[0],first_range[1]+1))\n",
    "    second_set = set(range(second_range[0],second_range[1]+1))\n",
    "\n",
    "    intersection = first_set.intersection(second_set)\n",
    "    empty_set = set()\n",
    "    if not intersection == empty_set:\n",
    "        count += 1\n",
    "\n",
    "count\n",
    "    "
   ]
  }
 ],
 "metadata": {
  "kernelspec": {
   "display_name": "Python 3.9.6 64-bit",
   "language": "python",
   "name": "python3"
  },
  "language_info": {
   "codemirror_mode": {
    "name": "ipython",
    "version": 3
   },
   "file_extension": ".py",
   "mimetype": "text/x-python",
   "name": "python",
   "nbconvert_exporter": "python",
   "pygments_lexer": "ipython3",
   "version": "3.9.6"
  },
  "orig_nbformat": 4,
  "vscode": {
   "interpreter": {
    "hash": "31f2aee4e71d21fbe5cf8b01ff0e069b9275f58929596ceb00d14d90e3e16cd6"
   }
  }
 },
 "nbformat": 4,
 "nbformat_minor": 2
}
