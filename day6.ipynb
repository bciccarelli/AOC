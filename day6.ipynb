{
 "cells": [
  {
   "cell_type": "code",
   "execution_count": 18,
   "metadata": {},
   "outputs": [
    {
     "name": "stdout",
     "output_type": "stream",
     "text": [
      "1238\n"
     ]
    }
   ],
   "source": [
    "with open(\"input6.txt\") as f:\n",
    "    a = f.readlines()\n",
    "\n",
    "b = [i.replace('\\n', '') for i in a]\n",
    "\n",
    "signal = b[0]\n",
    "\n",
    "recent_4 = []\n",
    "count = 0\n",
    "for c in signal:\n",
    "    count+=1\n",
    "    recent_4.append(c)\n",
    "    if(len(recent_4)>3):\n",
    "        if(len(set(recent_4))==4):\n",
    "            break\n",
    "        recent_4.pop(0)\n",
    "        \n",
    "print(count)\n"
   ]
  },
  {
   "cell_type": "code",
   "execution_count": 22,
   "metadata": {},
   "outputs": [
    {
     "name": "stdout",
     "output_type": "stream",
     "text": [
      "3037\n"
     ]
    }
   ],
   "source": [
    "with open(\"input6.txt\") as f:\n",
    "    a = f.readlines()\n",
    "\n",
    "b = [i.replace('\\n', '') for i in a]\n",
    "\n",
    "signal = b[0]\n",
    "\n",
    "recent_14 = []\n",
    "count = 0\n",
    "for c in signal:\n",
    "    count+=1\n",
    "    recent_14.append(c)\n",
    "    if(len(recent_14)>13):\n",
    "        if(len(set(recent_14))==14):\n",
    "            break\n",
    "        recent_14.pop(0)\n",
    "        \n",
    "print(count)\n"
   ]
  }
 ],
 "metadata": {
  "kernelspec": {
   "display_name": "Python 3.9.6 64-bit",
   "language": "python",
   "name": "python3"
  },
  "language_info": {
   "codemirror_mode": {
    "name": "ipython",
    "version": 3
   },
   "file_extension": ".py",
   "mimetype": "text/x-python",
   "name": "python",
   "nbconvert_exporter": "python",
   "pygments_lexer": "ipython3",
   "version": "3.9.6"
  },
  "orig_nbformat": 4,
  "vscode": {
   "interpreter": {
    "hash": "31f2aee4e71d21fbe5cf8b01ff0e069b9275f58929596ceb00d14d90e3e16cd6"
   }
  }
 },
 "nbformat": 4,
 "nbformat_minor": 2
}
