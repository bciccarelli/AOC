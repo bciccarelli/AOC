{
 "cells": [
  {
   "cell_type": "code",
   "execution_count": 10,
   "metadata": {},
   "outputs": [
    {
     "data": {
      "text/plain": [
       "10310"
      ]
     },
     "execution_count": 10,
     "metadata": {},
     "output_type": "execute_result"
    }
   ],
   "source": [
    "score = 0\n",
    "with open(\"input2.txt\") as f:\n",
    "    for line in f:\n",
    "        [b,a] = line.split(\" \")\n",
    "        if (\"X\" in a):\n",
    "            score += 1\n",
    "            if(\"A\" in b):\n",
    "                score += 3\n",
    "            if(\"B\" in b):\n",
    "                score += 0\n",
    "            if(\"C\" in b):\n",
    "                score += 6\n",
    "        if (\"Y\" in a):\n",
    "            score += 2\n",
    "            if(\"A\" in b):\n",
    "                score += 6\n",
    "            if(\"B\" in b):\n",
    "                score += 3\n",
    "            if(\"C\" in b):\n",
    "                score += 0\n",
    "        if (\"Z\" in a):\n",
    "            score += 3\n",
    "            if(\"A\" in b):\n",
    "                score += 0\n",
    "            if(\"B\" in b):\n",
    "                score += 6\n",
    "            if(\"C\" in b):\n",
    "                score += 3\n",
    "\n",
    "score\n"
   ]
  },
  {
   "cell_type": "code",
   "execution_count": 12,
   "metadata": {},
   "outputs": [
    {
     "data": {
      "text/plain": [
       "14859"
      ]
     },
     "execution_count": 12,
     "metadata": {},
     "output_type": "execute_result"
    }
   ],
   "source": [
    "score = 0\n",
    "with open(\"input2.txt\") as f:\n",
    "    for line in f:\n",
    "        [b,a] = line.split(\" \")\n",
    "        if (\"X\" in a):\n",
    "            score += 0\n",
    "            if(\"A\" in b):\n",
    "                score += 3\n",
    "            if(\"B\" in b):\n",
    "                score += 1\n",
    "            if(\"C\" in b):\n",
    "                score += 2\n",
    "        if (\"Y\" in a):\n",
    "            score += 3\n",
    "            if(\"A\" in b):\n",
    "                score += 1\n",
    "            if(\"B\" in b):\n",
    "                score += 2\n",
    "            if(\"C\" in b):\n",
    "                score += 3\n",
    "        if (\"Z\" in a):\n",
    "            score += 6\n",
    "            if(\"A\" in b):\n",
    "                score += 2\n",
    "            if(\"B\" in b):\n",
    "                score += 3\n",
    "            if(\"C\" in b):\n",
    "                score += 1\n",
    "\n",
    "score"
   ]
  }
 ],
 "metadata": {
  "kernelspec": {
   "display_name": "Python 3.9.6 64-bit",
   "language": "python",
   "name": "python3"
  },
  "language_info": {
   "codemirror_mode": {
    "name": "ipython",
    "version": 3
   },
   "file_extension": ".py",
   "mimetype": "text/x-python",
   "name": "python",
   "nbconvert_exporter": "python",
   "pygments_lexer": "ipython3",
   "version": "3.9.6"
  },
  "orig_nbformat": 4,
  "vscode": {
   "interpreter": {
    "hash": "31f2aee4e71d21fbe5cf8b01ff0e069b9275f58929596ceb00d14d90e3e16cd6"
   }
  }
 },
 "nbformat": 4,
 "nbformat_minor": 2
}
